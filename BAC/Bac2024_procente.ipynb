{
 "cells": [
  {
   "cell_type": "markdown",
   "metadata": {},
   "source": [
    "Prelucrare procente din fisier cu medii"
   ]
  },
  {
   "cell_type": "code",
   "execution_count": null,
   "metadata": {},
   "outputs": [],
   "source": [
    "import pandas as pd\n",
    "pd.options.display.max_rows = 25"
   ]
  },
  {
   "cell_type": "code",
   "execution_count": null,
   "metadata": {},
   "outputs": [],
   "source": [
    "df = pd.read_csv('/mnt/e/Stoleriu/OneDrive-UAIC/SciComp/Bac2024/tot-rezultate.csv', sep = \",\")\n",
    "#print(df)"
   ]
  },
  {
   "cell_type": "code",
   "execution_count": null,
   "metadata": {},
   "outputs": [],
   "source": [
    "judete = df.Judet.unique()\n",
    "#print(judete, '\\n',judete.size)"
   ]
  },
  {
   "cell_type": "code",
   "execution_count": null,
   "metadata": {},
   "outputs": [],
   "source": [
    "THE_DATA = []\n",
    "for jude in judete:\n",
    "    un_judet = df[df['Judet'] == jude]\n",
    "    promovati = un_judet[(un_judet.Nota >= 5.0)]\n",
    "    print(jude, \" -> \", len(un_judet.index), \" din care \", len(promovati.index), \" deci \", 100*len(promovati.index)/len(un_judet.index), '%')\n",
    "    THE_DATA.append([jude, len(un_judet.index), len(promovati.index), 100*len(promovati.index)/len(un_judet.index)])"
   ]
  },
  {
   "cell_type": "code",
   "execution_count": null,
   "metadata": {},
   "outputs": [],
   "source": [
    "THE_RESULT = pd.DataFrame(THE_DATA, columns=['Judet', 'NrElevi', 'NrPro', 'Procent'])\n",
    "THE_RESULT.to_csv('/mnt/e/Stoleriu/OneDrive-UAIC/SciComp/Bac2024/tot-procente.csv', sep = \",\", encoding='utf-8', index=False, header=True)"
   ]
  },
  {
   "cell_type": "code",
   "execution_count": null,
   "metadata": {},
   "outputs": [],
   "source": []
  }
 ],
 "metadata": {
  "kernelspec": {
   "display_name": "base",
   "language": "python",
   "name": "python3"
  },
  "language_info": {
   "codemirror_mode": {
    "name": "ipython",
    "version": 3
   },
   "file_extension": ".py",
   "mimetype": "text/x-python",
   "name": "python",
   "nbconvert_exporter": "python",
   "pygments_lexer": "ipython3",
   "version": "3.11.9"
  }
 },
 "nbformat": 4,
 "nbformat_minor": 2
}
