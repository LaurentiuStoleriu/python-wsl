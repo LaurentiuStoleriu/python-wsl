{
 "cells": [
  {
   "cell_type": "markdown",
   "metadata": {},
   "source": [
    "Gasire rezultate unice (unic SIIR) pe toti itemii"
   ]
  },
  {
   "cell_type": "code",
   "execution_count": null,
   "metadata": {},
   "outputs": [],
   "source": [
    "import pandas as pd\n",
    "import numpy as np\n",
    "pd.options.display.max_rows = 25"
   ]
  },
  {
   "cell_type": "code",
   "execution_count": null,
   "metadata": {},
   "outputs": [],
   "source": [
    "df = pd.read_csv('/mnt/e/Stoleriu/OneDrive-UAIC/SciComp/Bac2024/tot-analiza-itemi-programa.csv', sep = \",\")\n",
    "#print(df)"
   ]
  },
  {
   "cell_type": "code",
   "execution_count": null,
   "metadata": {},
   "outputs": [],
   "source": [
    "unici = df.SIIIR.unique()\n",
    "print(unici, '\\n',unici.size)"
   ]
  },
  {
   "cell_type": "code",
   "execution_count": null,
   "metadata": {},
   "outputs": [],
   "source": [
    "THE_DATA = []\n",
    "THE_COLUMNS = [3, 4, 5, 6, 7, 8, 9, 10, 11, 12, 13, 14, 15, 16, 17, 18, 19, 20, 21, 22, 23, 24, 25, 26, 27, 28, 29, 30, 31, 32, 33, 34, 35, 36, 37, 38, 39, 40, 41, 42, 43, 44, 45, 46, 47, 48, 49, 50, 51, 52, 53, 54, 55, 56, 57, 58, 59, 61]\n",
    "#I.I, I.2, I.3, I.4, I.5, I.6, I, II.1a, II.1b, II.1c, II.2a, II.2b, II.2c, II, III.1a, III.1b, III.1c, III.2a, III.2b, III.2c, III, Total\n",
    "#4     7   10   13   16   19   20  23     26     29     32     35     38    39   42      45      48      51       54      57     58    60\n",
    "#+1 de la coloana Programa\n",
    "\n",
    "count = 0\n",
    "for SIIIRval in unici:\n",
    "    count += 1\n",
    "    #if (count > 2000):\n",
    "    #    break\n",
    "    if (count % 1000 == 0):\n",
    "        print(count)\n",
    "    un_elev = df[df['SIIIR'] == SIIIRval]\n",
    "    ITEMI = np.zeros(58)\n",
    "    Diferenta = abs(un_elev.iloc[0,THE_COLUMNS[0]] - un_elev.iloc[1,THE_COLUMNS[1]])      # DIFERENTA INTRE CORECTURILE INITIALE\n",
    "    if (len(un_elev.index) == 2):                                   # DOUA CORECTURI [0, 1]\n",
    "        for i, itm in enumerate(THE_COLUMNS):\n",
    "            ITEMI[i] = (un_elev.iloc[0,itm] + un_elev.iloc[1,itm])/2.0\n",
    "        THE_DATA.append([un_elev.iloc[0,0], un_elev.iloc[0,1], un_elev.iloc[0,2], 2, Diferenta, ITEMI[0], ITEMI[1], ITEMI[2], ITEMI[3], ITEMI[4], ITEMI[5], ITEMI[6], ITEMI[7], ITEMI[8], ITEMI[9], ITEMI[10], ITEMI[11], ITEMI[12], ITEMI[13], ITEMI[14], ITEMI[15], ITEMI[16], ITEMI[17], ITEMI[18], ITEMI[19], ITEMI[20], ITEMI[21], ITEMI[22], ITEMI[23], ITEMI[24], ITEMI[25], ITEMI[26], ITEMI[27], ITEMI[28], ITEMI[29], ITEMI[30], ITEMI[31], ITEMI[32], ITEMI[33], ITEMI[34], ITEMI[35], ITEMI[36], ITEMI[37], ITEMI[38], ITEMI[39], ITEMI[40], ITEMI[41], ITEMI[42], ITEMI[43], ITEMI[44], ITEMI[45], ITEMI[46], ITEMI[47], ITEMI[48], ITEMI[49], ITEMI[50], ITEMI[51], ITEMI[52], ITEMI[53], ITEMI[54], ITEMI[55], ITEMI[56], ITEMI[57]])\n",
    "    elif (len(un_elev.index) == 4):\n",
    "        if ( abs(un_elev.iloc[0,60] - un_elev.iloc[1,60]) <= 10 ):  # PATRU CORECTURI - CONTESTATIE [2, 3]\n",
    "            for i, itm in enumerate(THE_COLUMNS):\n",
    "                ITEMI[i] = (un_elev.iloc[2,itm] + un_elev.iloc[3,itm])/2.0\n",
    "            THE_DATA.append([un_elev.iloc[0,0], un_elev.iloc[0,1], un_elev.iloc[0,2], 4, Diferenta, ITEMI[0], ITEMI[1], ITEMI[2], ITEMI[3], ITEMI[4], ITEMI[5], ITEMI[6], ITEMI[7], ITEMI[8], ITEMI[9], ITEMI[10], ITEMI[11], ITEMI[12], ITEMI[13], ITEMI[14], ITEMI[15], ITEMI[16], ITEMI[17], ITEMI[18], ITEMI[19], ITEMI[20], ITEMI[21], ITEMI[22], ITEMI[23], ITEMI[24], ITEMI[25], ITEMI[26], ITEMI[27], ITEMI[28], ITEMI[29], ITEMI[30], ITEMI[31], ITEMI[32], ITEMI[33], ITEMI[34], ITEMI[35], ITEMI[36], ITEMI[37], ITEMI[38], ITEMI[39], ITEMI[40], ITEMI[41], ITEMI[42], ITEMI[43], ITEMI[44], ITEMI[45], ITEMI[46], ITEMI[47], ITEMI[48], ITEMI[49], ITEMI[50], ITEMI[51], ITEMI[52], ITEMI[53], ITEMI[54], ITEMI[55], ITEMI[56], ITEMI[57]])\n",
    "        else:                                                       # PATRU CORECTURI DIFERENTA MARE\n",
    "            un_elev = un_elev.sort_values(by=['Total'],ascending = [True])     # CANNOT DROP MAX SI MIN!!!\n",
    "            for i, itm in enumerate(THE_COLUMNS):\n",
    "                ITEMI[i] = (un_elev.iloc[1,itm] + un_elev.iloc[2,itm])/2.0\n",
    "            THE_DATA.append([un_elev.iloc[0,0], un_elev.iloc[0,1], un_elev.iloc[0,2], 5, Diferenta, ITEMI[0], ITEMI[1], ITEMI[2], ITEMI[3], ITEMI[4], ITEMI[5], ITEMI[6], ITEMI[7], ITEMI[8], ITEMI[9], ITEMI[10], ITEMI[11], ITEMI[12], ITEMI[13], ITEMI[14], ITEMI[15], ITEMI[16], ITEMI[17], ITEMI[18], ITEMI[19], ITEMI[20], ITEMI[21], ITEMI[22], ITEMI[23], ITEMI[24], ITEMI[25], ITEMI[26], ITEMI[27], ITEMI[28], ITEMI[29], ITEMI[30], ITEMI[31], ITEMI[32], ITEMI[33], ITEMI[34], ITEMI[35], ITEMI[36], ITEMI[37], ITEMI[38], ITEMI[39], ITEMI[40], ITEMI[41], ITEMI[42], ITEMI[43], ITEMI[44], ITEMI[45], ITEMI[46], ITEMI[47], ITEMI[48], ITEMI[49], ITEMI[50], ITEMI[51], ITEMI[52], ITEMI[53], ITEMI[54], ITEMI[55], ITEMI[56], ITEMI[57]])\n",
    "    elif (len(un_elev.index) == 8):                                 # OPT CORECTURI\n",
    "        un_elev = un_elev.iloc[4:]                                              # DROP CORECTURI INITIALE\n",
    "        un_elev = un_elev.sort_values(by=['Total'],ascending = [True])          # CANNOT DROP MAX SI MIN!!!\n",
    "        for i, itm in enumerate(THE_COLUMNS):\n",
    "            ITEMI[i] = (un_elev.iloc[1,itm] + un_elev.iloc[2,itm])/2.0\n",
    "        THE_DATA.append([un_elev.iloc[0,0], un_elev.iloc[0,1], un_elev.iloc[0,2], 8, Diferenta, ITEMI[0], ITEMI[1], ITEMI[2], ITEMI[3], ITEMI[4], ITEMI[5], ITEMI[6], ITEMI[7], ITEMI[8], ITEMI[9], ITEMI[10], ITEMI[11], ITEMI[12], ITEMI[13], ITEMI[14], ITEMI[15], ITEMI[16], ITEMI[17], ITEMI[18], ITEMI[19], ITEMI[20], ITEMI[21], ITEMI[22], ITEMI[23], ITEMI[24], ITEMI[25], ITEMI[26], ITEMI[27], ITEMI[28], ITEMI[29], ITEMI[30], ITEMI[31], ITEMI[32], ITEMI[33], ITEMI[34], ITEMI[35], ITEMI[36], ITEMI[37], ITEMI[38], ITEMI[39], ITEMI[40], ITEMI[41], ITEMI[42], ITEMI[43], ITEMI[44], ITEMI[45], ITEMI[46], ITEMI[47], ITEMI[48], ITEMI[49], ITEMI[50], ITEMI[51], ITEMI[52], ITEMI[53], ITEMI[54], ITEMI[55], ITEMI[56], ITEMI[57]])\n",
    "    elif (len(un_elev.index) == 6):\n",
    "        if ( abs(un_elev.iloc[0,60] - un_elev.iloc[1,60]) <= 10 ):  # SASE CORECTURI DIFERENTA MARE INITIAL [4, 5]\n",
    "            for i, itm in enumerate(THE_COLUMNS):\n",
    "                ITEMI[i] = (un_elev.iloc[4,itm] + un_elev.iloc[5,itm])/2.0\n",
    "            THE_DATA.append([un_elev.iloc[0,0], un_elev.iloc[0,1], un_elev.iloc[0,2], 6, Diferenta, ITEMI[0], ITEMI[1], ITEMI[2], ITEMI[3], ITEMI[4], ITEMI[5], ITEMI[6], ITEMI[7], ITEMI[8], ITEMI[9], ITEMI[10], ITEMI[11], ITEMI[12], ITEMI[13], ITEMI[14], ITEMI[15], ITEMI[16], ITEMI[17], ITEMI[18], ITEMI[19], ITEMI[20], ITEMI[21], ITEMI[22], ITEMI[23], ITEMI[24], ITEMI[25], ITEMI[26], ITEMI[27], ITEMI[28], ITEMI[29], ITEMI[30], ITEMI[31], ITEMI[32], ITEMI[33], ITEMI[34], ITEMI[35], ITEMI[36], ITEMI[37], ITEMI[38], ITEMI[39], ITEMI[40], ITEMI[41], ITEMI[42], ITEMI[43], ITEMI[44], ITEMI[45], ITEMI[46], ITEMI[47], ITEMI[48], ITEMI[49], ITEMI[50], ITEMI[51], ITEMI[52], ITEMI[53], ITEMI[54], ITEMI[55], ITEMI[56], ITEMI[57]])\n",
    "        else:                                                       # SASE CORECTURI DIFERENTA MARE CONTESTATIE \n",
    "            un_elev = un_elev.iloc[2:]                                          # DROP CORECTURI INITIALE\n",
    "            un_elev = un_elev.sort_values(by=['Total'],ascending = [True])      # CANNOT DROP MAX SI MIN!!!\n",
    "            for i, itm in enumerate(THE_COLUMNS):\n",
    "                ITEMI[i] = (un_elev.iloc[1,itm] + un_elev.iloc[2,itm])/2.0\n",
    "            THE_DATA.append([un_elev.iloc[0,0], un_elev.iloc[0,1], un_elev.iloc[0,2], 7, Diferenta, ITEMI[0], ITEMI[1], ITEMI[2], ITEMI[3], ITEMI[4], ITEMI[5], ITEMI[6], ITEMI[7], ITEMI[8], ITEMI[9], ITEMI[10], ITEMI[11], ITEMI[12], ITEMI[13], ITEMI[14], ITEMI[15], ITEMI[16], ITEMI[17], ITEMI[18], ITEMI[19], ITEMI[20], ITEMI[21], ITEMI[22], ITEMI[23], ITEMI[24], ITEMI[25], ITEMI[26], ITEMI[27], ITEMI[28], ITEMI[29], ITEMI[30], ITEMI[31], ITEMI[32], ITEMI[33], ITEMI[34], ITEMI[35], ITEMI[36], ITEMI[37], ITEMI[38], ITEMI[39], ITEMI[40], ITEMI[41], ITEMI[42], ITEMI[43], ITEMI[44], ITEMI[45], ITEMI[46], ITEMI[47], ITEMI[48], ITEMI[49], ITEMI[50], ITEMI[51], ITEMI[52], ITEMI[53], ITEMI[54], ITEMI[55], ITEMI[56], ITEMI[57]])\n",
    "    else:\n",
    "        print(\"ERROR -> \", len(un_elev.index), \" @ \", SIIIRval)\n",
    "#print(THE_DATA)\n",
    "print(len(THE_DATA))"
   ]
  },
  {
   "cell_type": "markdown",
   "metadata": {},
   "source": [
    "2 - 2 corecturi\n",
    "4 - 4 corecturi contestatie\n",
    "5 - 4 corecturi diferenta mare\n",
    "6 - 6 corecturi diferenta mare initial\n",
    "7 - 6 corecturi diferenta mare contestatie\n",
    "8 - 8 corecturi"
   ]
  },
  {
   "cell_type": "code",
   "execution_count": null,
   "metadata": {},
   "outputs": [],
   "source": [
    "THE_RESULT = pd.DataFrame(THE_DATA, columns=['SIIIR', 'Judet', 'Programa', 'NrCorecturi', 'DiferentaIni',\n",
    "                                             'I.1.1', 'I.1.2', 'I.I', \n",
    "                                             'I.2.1', 'I.2.2', 'I.2', \n",
    "                                             'I.3.1', 'I.3.2', 'I.3', \n",
    "                                             'I.4.1', 'I.4.2', 'I.4', \n",
    "                                             'I.5.1', 'I.5.2', 'I.5', \n",
    "                                             'I.6.1', 'I.6.2', 'I.6', 'I',\n",
    "                                             'II.1a.1', 'II.1a.2', 'II.1a',\n",
    "                                             'II.1b.1', 'II.1b.2', 'II.1b', \n",
    "                                             'II.1c.1', 'II.1c.2', 'II.1c', \n",
    "                                             'II.2a.1', 'II.2a.2', 'II.2a', \n",
    "                                             'II.2b.1', 'II.2b.2', 'II.2b', \n",
    "                                             'II.2c.1', 'II.2c.2', 'II.2c' , 'II', \n",
    "                                             'III.1a.1', 'III.1a.2', 'III.1a', \n",
    "                                             'III.1b.1', 'III.1b.2', 'III.1b', \n",
    "                                             'III.1c.1', 'III.1c.2', 'III.1c', \n",
    "                                             'III.2a.1', 'III.2a.2', 'III.2a', \n",
    "                                             'III.2b.1', 'III.2b.2', 'III.2b', \n",
    "                                             'III.2c.1', 'III.2c.2', 'III.2c', 'III',  'Nota'])\n",
    "\n",
    "\n",
    "THE_RESULT.to_csv('/mnt/e/Stoleriu/OneDrive-UAIC/SciComp/Bac2024/tot-itemi-programa.csv', sep = \",\", encoding='utf-8', index=False, header=True)"
   ]
  },
  {
   "cell_type": "code",
   "execution_count": null,
   "metadata": {},
   "outputs": [],
   "source": []
  }
 ],
 "metadata": {
  "kernelspec": {
   "display_name": "base",
   "language": "python",
   "name": "python3"
  },
  "language_info": {
   "codemirror_mode": {
    "name": "ipython",
    "version": 3
   },
   "file_extension": ".py",
   "mimetype": "text/x-python",
   "name": "python",
   "nbconvert_exporter": "python",
   "pygments_lexer": "ipython3",
   "version": "3.11.9"
  }
 },
 "nbformat": 4,
 "nbformat_minor": 2
}
