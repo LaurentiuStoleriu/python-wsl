{
 "cells": [
  {
   "cell_type": "markdown",
   "metadata": {},
   "source": [
    "Gasire rezultate unice (unic SIIR) pe toti itemii"
   ]
  },
  {
   "cell_type": "code",
   "execution_count": null,
   "metadata": {},
   "outputs": [],
   "source": [
    "import pandas as pd\n",
    "import numpy as np\n",
    "pd.options.display.max_rows = 25"
   ]
  },
  {
   "cell_type": "code",
   "execution_count": null,
   "metadata": {},
   "outputs": [],
   "source": [
    "df = pd.read_csv('/mnt/e/Stoleriu/OneDrive-UAIC/SciComp/Bac2024/tot-analiza-itemi.csv', sep = \",\")\n",
    "#print(df)"
   ]
  },
  {
   "cell_type": "code",
   "execution_count": null,
   "metadata": {},
   "outputs": [],
   "source": [
    "unici = df.SIIIR.unique()\n",
    "print(unici, '\\n',unici.size)"
   ]
  },
  {
   "cell_type": "code",
   "execution_count": null,
   "metadata": {},
   "outputs": [],
   "source": [
    "THE_DATA = []\n",
    "THE_COLUMNS = [4, 7, 10, 13, 16, 19, 20, 23, 26, 29, 32, 35, 38, 39, 42, 45, 48, 51, 54, 57, 58, 60]\n",
    "#I.I, I.2, I.3, I.4, I.5, I.6, I, II.1a, II.1b, II.1c, II.2a, II.2b, II.2c, II, III.1a, III.1b, III.1c, III.2a, III.2b, III.2c, III, Total\n",
    "#4     7   10   13   16   19   20  23     26     29     32     35     38    39   42      45      48      51       54      57     58    60\n",
    "count = 0\n",
    "for SIIIRval in unici:\n",
    "    count += 1\n",
    "    #if (count > 2000):\n",
    "    #    break\n",
    "    if (count % 1000 == 0):\n",
    "        print(count)\n",
    "    un_elev = df[df['SIIIR'] == SIIIRval]\n",
    "    ITEMI = np.zeros(22)\n",
    "    Diferenta = abs(un_elev.iloc[0,itm] - un_elev.iloc[1,itm])      # DIFERENTA INTRE CORECTURILE INITIALE\n",
    "    if (len(un_elev.index) == 2):                                   # DOUA CORECTURI [0, 1]\n",
    "        for i, itm in enumerate(THE_COLUMNS):\n",
    "            ITEMI[i] = (un_elev.iloc[0,itm] + un_elev.iloc[1,itm])/2.0\n",
    "        THE_DATA.append([un_elev.iloc[0,0], un_elev.iloc[0,1], 2, Diferenta, ITEMI[0], ITEMI[1], ITEMI[2], ITEMI[3], ITEMI[4], ITEMI[5], ITEMI[6], ITEMI[7], ITEMI[8], ITEMI[9], ITEMI[10], ITEMI[11], ITEMI[12], ITEMI[13], ITEMI[14], ITEMI[15], ITEMI[16], ITEMI[17], ITEMI[18], ITEMI[19], ITEMI[20], ITEMI[21]])\n",
    "    elif (len(un_elev.index) == 4):\n",
    "        if ( abs(un_elev.iloc[0,60] - un_elev.iloc[1,60]) <= 10 ):  # PATRU CORECTURI - CONTESTATIE [2, 3]\n",
    "            for i, itm in enumerate(THE_COLUMNS):\n",
    "                ITEMI[i] = (un_elev.iloc[2,itm] + un_elev.iloc[3,itm])/2.0\n",
    "            THE_DATA.append([un_elev.iloc[0,0], un_elev.iloc[0,1], 4, Diferenta, ITEMI[0], ITEMI[1], ITEMI[2], ITEMI[3], ITEMI[4], ITEMI[5], ITEMI[6], ITEMI[7], ITEMI[8], ITEMI[9], ITEMI[10], ITEMI[11], ITEMI[12], ITEMI[13], ITEMI[14], ITEMI[15], ITEMI[16], ITEMI[17], ITEMI[18], ITEMI[19], ITEMI[20], ITEMI[21]])\n",
    "        else:                                                       # PATRU CORECTURI DIFERENTA MARE\n",
    "            un_elev = un_elev.sort_values(by=['Total'],ascending = [True])     # CANNOT DROP MAX SI MIN!!!\n",
    "            for i, itm in enumerate(THE_COLUMNS):\n",
    "                ITEMI[i] = (un_elev.iloc[1,itm] + un_elev.iloc[2,itm])/2.0\n",
    "            THE_DATA.append([un_elev.iloc[0,0], un_elev.iloc[0,1], 5, Diferenta, ITEMI[0], ITEMI[1], ITEMI[2], ITEMI[3], ITEMI[4], ITEMI[5], ITEMI[6], ITEMI[7], ITEMI[8], ITEMI[9], ITEMI[10], ITEMI[11], ITEMI[12], ITEMI[13], ITEMI[14], ITEMI[15], ITEMI[16], ITEMI[17], ITEMI[18], ITEMI[19], ITEMI[20], ITEMI[21]])\n",
    "    elif (len(un_elev.index) == 8):                                 # OPT CORECTURI\n",
    "        un_elev = un_elev.iloc[4:]                                              # DROP CORECTURI INITIALE\n",
    "        un_elev = un_elev.sort_values(by=['Total'],ascending = [True])          # CANNOT DROP MAX SI MIN!!!\n",
    "        for i, itm in enumerate(THE_COLUMNS):\n",
    "            ITEMI[i] = (un_elev.iloc[1,itm] + un_elev.iloc[2,itm])/2.0\n",
    "        THE_DATA.append([un_elev.iloc[0,0], un_elev.iloc[0,1], 8, Diferenta, ITEMI[0], ITEMI[1], ITEMI[2], ITEMI[3], ITEMI[4], ITEMI[5], ITEMI[6], ITEMI[7], ITEMI[8], ITEMI[9], ITEMI[10], ITEMI[11], ITEMI[12], ITEMI[13], ITEMI[14], ITEMI[15], ITEMI[16], ITEMI[17], ITEMI[18], ITEMI[19], ITEMI[20], ITEMI[21]])\n",
    "    elif (len(un_elev.index) == 6):\n",
    "        if ( abs(un_elev.iloc[0,60] - un_elev.iloc[1,60]) <= 10 ):  # SASE CORECTURI DIFERENTA MARE INITIAL [4, 5]\n",
    "            for i, itm in enumerate(THE_COLUMNS):\n",
    "                ITEMI[i] = (un_elev.iloc[4,itm] + un_elev.iloc[5,itm])/2.0\n",
    "            THE_DATA.append([un_elev.iloc[0,0], un_elev.iloc[0,1], 6, Diferenta, ITEMI[0], ITEMI[1], ITEMI[2], ITEMI[3], ITEMI[4], ITEMI[5], ITEMI[6], ITEMI[7], ITEMI[8], ITEMI[9], ITEMI[10], ITEMI[11], ITEMI[12], ITEMI[13], ITEMI[14], ITEMI[15], ITEMI[16], ITEMI[17], ITEMI[18], ITEMI[19], ITEMI[20], ITEMI[21]])\n",
    "        else:                                                       # SASE CORECTURI DIFERENTA MARE CONTESTATIE \n",
    "            un_elev = un_elev.iloc[2:]                                          # DROP CORECTURI INITIALE\n",
    "            un_elev = un_elev.sort_values(by=['Total'],ascending = [True])      # CANNOT DROP MAX SI MIN!!!\n",
    "            for i, itm in enumerate(THE_COLUMNS):\n",
    "                ITEMI[i] = (un_elev.iloc[1,itm] + un_elev.iloc[2,itm])/2.0\n",
    "            THE_DATA.append([un_elev.iloc[0,0], un_elev.iloc[0,1], 7, Diferenta, ITEMI[0], ITEMI[1], ITEMI[2], ITEMI[3], ITEMI[4], ITEMI[5], ITEMI[6], ITEMI[7], ITEMI[8], ITEMI[9], ITEMI[10], ITEMI[11], ITEMI[12], ITEMI[13], ITEMI[14], ITEMI[15], ITEMI[16], ITEMI[17], ITEMI[18], ITEMI[19], ITEMI[20], ITEMI[21]])\n",
    "    else:\n",
    "        print(\"ERROR -> \", len(un_elev.index), \" @ \", SIIIRval)\n",
    "#print(THE_DATA)\n",
    "print(len(THE_DATA))"
   ]
  },
  {
   "cell_type": "markdown",
   "metadata": {},
   "source": [
    "2 - 2 corecturi\n",
    "4 - 4 corecturi contestatie\n",
    "5 - 4 corecturi diferenta mare\n",
    "6 - 6 corecturi diferenta mare initial\n",
    "7 - 6 corecturi diferenta mare contestatie\n",
    "8 - 8 corecturi"
   ]
  },
  {
   "cell_type": "code",
   "execution_count": null,
   "metadata": {},
   "outputs": [],
   "source": [
    "THE_RESULT = pd.DataFrame(THE_DATA, columns=['SIIIR', 'Judet', 'NrCorecturi', 'DiferentaIni',\n",
    "                                  'I.I', 'I.2', 'I.3', 'I.4', 'I.5', 'I.6', 'I',\n",
    "                                  'II.1a', 'II.1b', 'II.1c', 'II.2a', 'II.2b', 'II.2c' , 'II',\n",
    "                                  'III.1a', 'III.1b', 'III.1c', 'III.2a', 'III.2b', 'III.2c', 'III',  'Nota'])\n",
    "\n",
    "\n",
    "THE_RESULT.to_csv('/mnt/e/Stoleriu/OneDrive-UAIC/SciComp/Bac2024/tot-itemi.csv', sep = \",\", encoding='utf-8', index=False, header=True)"
   ]
  },
  {
   "cell_type": "code",
   "execution_count": null,
   "metadata": {},
   "outputs": [],
   "source": []
  }
 ],
 "metadata": {
  "kernelspec": {
   "display_name": "base",
   "language": "python",
   "name": "python3"
  },
  "language_info": {
   "codemirror_mode": {
    "name": "ipython",
    "version": 3
   },
   "file_extension": ".py",
   "mimetype": "text/x-python",
   "name": "python",
   "nbconvert_exporter": "python",
   "pygments_lexer": "ipython3",
   "version": "3.11.9"
  }
 },
 "nbformat": 4,
 "nbformat_minor": 2
}
