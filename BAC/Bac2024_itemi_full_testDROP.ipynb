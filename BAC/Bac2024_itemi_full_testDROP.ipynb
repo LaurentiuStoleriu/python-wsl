{
 "cells": [
  {
   "cell_type": "markdown",
   "metadata": {},
   "source": [
    "Gasire rezultate unice (unic SIIR) pe toti itemii"
   ]
  },
  {
   "cell_type": "code",
   "execution_count": null,
   "metadata": {},
   "outputs": [],
   "source": [
    "import pandas as pd\n",
    "import numpy as np\n",
    "pd.options.display.max_rows = 25"
   ]
  },
  {
   "cell_type": "code",
   "execution_count": null,
   "metadata": {},
   "outputs": [],
   "source": [
    "df = pd.read_csv('/mnt/e/Stoleriu/OneDrive-UAIC/SciComp/Bac2024/tot-analiza-itemi.csv', sep = \",\")\n",
    "#print(df)"
   ]
  },
  {
   "cell_type": "code",
   "execution_count": null,
   "metadata": {},
   "outputs": [],
   "source": [
    "unici = df.SIIIR.unique()\n",
    "print(unici, '\\n',unici.size)"
   ]
  },
  {
   "cell_type": "code",
   "execution_count": null,
   "metadata": {},
   "outputs": [],
   "source": [
    "THE_DATA = []\n",
    "THE_COLUMNS = [4, 7, 10, 13, 16, 19, 20, 23, 26, 29, 32, 35, 38, 39, 42, 45, 48, 51, 54, 57, 58, 60]\n",
    "#I.I, I.2, I.3, I.4, I.5, I.6, I, II.1a, II.1b, II.1c, II.2a, II.2b, II.2c, II, III.1a, III.1b, III.1c, III.2a, III.2b, III.2c, III, Total\n",
    "#4     7   10   13   16   19   20  23     26     29     32     35     38    39   42      45      48      51       54      57     58    60\n",
    "count = 0\n",
    "for SIIIRval in unici:\n",
    "    count += 1\n",
    "    if (count > 50):\n",
    "        break\n",
    "    un_elev = df[df['SIIIR'] == SIIIRval]\n",
    "    ITEMI = np.zeros(22)\n",
    "    if (len(un_elev.index) == 2):                                   # DOUA CORECTURI [0, 1]\n",
    "        print(SIIIRval, \" -> [0, 1] NO DROP\")\n",
    "    elif (len(un_elev.index) == 4):\n",
    "        if ( abs(un_elev.iloc[0,60] - un_elev.iloc[1,60]) <= 10 ):  # PATRU CORECTURI - CONTESTATIE [2, 3]\n",
    "            print(SIIIRval, \" -> [2, 3] NO DROP\")\n",
    "        else:                                                       # PATRU CORECTURI DIFERENTA MARE\n",
    "            print(un_elev)\n",
    "            #un_elev = un_elev.loc[un_elev['Total']!=un_elev['Total'].max()]     # DROP MAX SI MIN\n",
    "            #un_elev = un_elev.loc[un_elev['Total']!=un_elev['Total'].min()]\n",
    "            un_elev = un_elev.sort_values(by=['Total'],ascending = [True])\n",
    "            print(un_elev)\n",
    "    else:\n",
    "        print(\"ERROR -> \", len(un_elev.index), \" @ \", SIIIRval)\n",
    "#print(THE_DATA)\n",
    "print(len(THE_DATA))"
   ]
  },
  {
   "cell_type": "code",
   "execution_count": null,
   "metadata": {},
   "outputs": [],
   "source": [
    "THE_RESULT = pd.DataFrame(THE_DATA, columns=['SIIIR', 'Judet', 'NrCorecturi',\n",
    "                                  'I.I', 'I.2', 'I.3', 'I.4', 'I.5', 'I.6', 'I',\n",
    "                                  'II.1a', 'II.1b', 'II.1c', 'II.2a', 'II.2b', 'II.2c' , 'II',\n",
    "                                  'III.1a', 'III.1b', 'III.1c', 'III.2a', 'III.2b', 'III.2c', 'III',  'Nota'])\n",
    "\n",
    "\n",
    "THE_RESULT.to_csv('/mnt/e/Stoleriu/OneDrive-UAIC/SciComp/Bac2024/tot-itemi.csv', sep = \",\", encoding='utf-8', index=False, header=True)"
   ]
  },
  {
   "cell_type": "code",
   "execution_count": null,
   "metadata": {},
   "outputs": [],
   "source": []
  }
 ],
 "metadata": {
  "kernelspec": {
   "display_name": "base",
   "language": "python",
   "name": "python3"
  },
  "language_info": {
   "codemirror_mode": {
    "name": "ipython",
    "version": 3
   },
   "file_extension": ".py",
   "mimetype": "text/x-python",
   "name": "python",
   "nbconvert_exporter": "python",
   "pygments_lexer": "ipython3",
   "version": "3.11.9"
  }
 },
 "nbformat": 4,
 "nbformat_minor": 2
}
