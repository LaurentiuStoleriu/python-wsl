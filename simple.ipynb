{
 "cells": [
  {
   "cell_type": "code",
   "execution_count": 1,
   "metadata": {
    "tags": []
   },
   "outputs": [
    {
     "name": "stdout",
     "output_type": "stream",
     "text": [
      "Simple notebook in VS COde\n"
     ]
    }
   ],
   "source": [
    "import geopandas\n",
    "import geoplot"
   ]
  },
  {
   "cell_type": "code",
   "execution_count": null,
   "metadata": {},
   "outputs": [],
   "source": [
    "import geopandas\n",
    "import geoplot\n",
    "myCountry = \"Italy\"\n",
    "world = geopandas.read_file(geopandas.datasets.get_path('naturalearth_lowres'))\n",
    "thisCountry = world.query('name == \"{}\"'.format(myCountry))\n",
    "ax = geoplot.polyplot(\n",
    "    thisCountry, \n",
    "    edgecolor='None', figsize=(7, 8)\n",
    ")\n",
    "geoplot.polyplot(thisCountry, edgecolor='gray', ax=ax)\n",
    "plt.show()"
   ]
  }
 ],
 "metadata": {
  "kernelspec": {
   "display_name": "Python 3.9.12 ('base')",
   "language": "python",
   "name": "python3"
  },
  "language_info": {
   "codemirror_mode": {
    "name": "ipython",
    "version": 3
   },
   "file_extension": ".py",
   "mimetype": "text/x-python",
   "name": "python",
   "nbconvert_exporter": "python",
   "pygments_lexer": "ipython3",
   "version": "3.9.12"
  },
  "orig_nbformat": 2,
  "vscode": {
   "interpreter": {
    "hash": "b58d580569df375eef6f3f412e853221ed19ffd54fc020697c07ef28c5137e99"
   }
  }
 },
 "nbformat": 4,
 "nbformat_minor": 2
}
