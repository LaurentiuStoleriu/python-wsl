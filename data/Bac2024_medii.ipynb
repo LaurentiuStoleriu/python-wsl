{
 "cells": [
  {
   "cell_type": "code",
   "execution_count": null,
   "metadata": {},
   "outputs": [],
   "source": [
    "import pandas as pd\n",
    "pd.options.display.max_rows = 25"
   ]
  },
  {
   "cell_type": "code",
   "execution_count": null,
   "metadata": {},
   "outputs": [],
   "source": [
    "df = pd.read_csv('/mnt/e/Stoleriu/OneDrive-UAIC/SciComp/Bac2024/tot-analiza-itemi.csv', sep = \",\")\n",
    "#print(df)"
   ]
  },
  {
   "cell_type": "code",
   "execution_count": null,
   "metadata": {},
   "outputs": [],
   "source": [
    "unici = df.SIIIR.unique()\n",
    "print(unici, '\\n',unici.size)"
   ]
  },
  {
   "cell_type": "code",
   "execution_count": null,
   "metadata": {},
   "outputs": [],
   "source": [
    "THE_DATA = []\n",
    "count = 0\n",
    "for SIIIRval in unici:\n",
    "    count += 1\n",
    "    #if (count > 2000):\n",
    "    #    break\n",
    "    if (count % 1000 == 0):\n",
    "        print(count)\n",
    "    un_elev = df[df['SIIIR'] == SIIIRval]\n",
    "    #print(len(un_elev.index))\n",
    "    if (len(un_elev.index) == 2):                                   # DOUA CORECTURI\n",
    "        THE_DATA.append([un_elev.iloc[0,0], un_elev.iloc[0,1], len(un_elev.index),(un_elev.iloc[0,60] + un_elev.iloc[1,60])/20.0])\n",
    "    elif (len(un_elev.index) == 4):\n",
    "        if ( abs(un_elev.iloc[0,60] - un_elev.iloc[1,60]) <= 10 ):  # PATRU CORECTURI - CONTESTATIE\n",
    "            THE_DATA.append([un_elev.iloc[0,0], un_elev.iloc[0,1], len(un_elev.index),(un_elev.iloc[2,60] + un_elev.iloc[3,60])/20.0])\n",
    "        else:                                                       # PATRU CORECTURI DIFERENTA MARE\n",
    "            THE_DATA.append([un_elev.iloc[0,0], un_elev.iloc[0,1], len(un_elev.index),(un_elev['Total'].sum()-un_elev['Total'].min()-un_elev['Total'].max())/20.0])\n",
    "            #print(SIIIRval, \" ... \", un_elev['Total'].min(), \" --- \", un_elev['Total'].max(), \" -> \", (un_elev['Total'].sum()-un_elev['Total'].min()-un_elev['Total'].max())/2.0)\n",
    "    elif (len(un_elev.index) == 8):                                 # OPT CORECTURI\n",
    "        un_elev = un_elev.iloc[4:]\n",
    "        THE_DATA.append([un_elev.iloc[0,0], un_elev.iloc[0,1], 8,(un_elev['Total'].sum()-un_elev['Total'].min()-un_elev['Total'].max())/20.0])\n",
    "    elif (len(un_elev.index) == 6):\n",
    "        if ( abs(un_elev.iloc[0,60] - un_elev.iloc[1,60]) <= 10 ):  # SASE CORECTURI DIFERENTA MARE INITIAL\n",
    "            THE_DATA.append([un_elev.iloc[0,0], un_elev.iloc[0,1], len(un_elev.index),(un_elev.iloc[4,60] + un_elev.iloc[5,60])/20.0])\n",
    "        else:                                                       # SASE CORECTURI DIFERENTA MARE CONTESTATIE \n",
    "            un_elev = un_elev.iloc[2:]\n",
    "            THE_DATA.append([un_elev.iloc[0,0], un_elev.iloc[0,1], 6,(un_elev['Total'].sum()-un_elev['Total'].min()-un_elev['Total'].max())/20.0])\n",
    "    else:\n",
    "        print(\"ERROR -> \", len(un_elev.index), \" @ \", SIIIRval)\n",
    "#print(THE_DATA)\n",
    "print(len(THE_DATA))"
   ]
  },
  {
   "cell_type": "code",
   "execution_count": null,
   "metadata": {},
   "outputs": [],
   "source": [
    "THE_RESULT = pd.DataFrame(THE_DATA, columns=['SIIIR', 'Judet', 'NrCorecturi', 'Nota'])\n",
    "THE_RESULT.to_csv('/mnt/e/Stoleriu/OneDrive-UAIC/SciComp/Bac2024/tot-rezultate.csv', sep = \",\", encoding='utf-8', index=False, header=True)"
   ]
  },
  {
   "cell_type": "code",
   "execution_count": null,
   "metadata": {},
   "outputs": [],
   "source": []
  }
 ],
 "metadata": {
  "kernelspec": {
   "display_name": "base",
   "language": "python",
   "name": "python3"
  },
  "language_info": {
   "codemirror_mode": {
    "name": "ipython",
    "version": 3
   },
   "file_extension": ".py",
   "mimetype": "text/x-python",
   "name": "python",
   "nbconvert_exporter": "python",
   "pygments_lexer": "ipython3",
   "version": "3.11.9"
  }
 },
 "nbformat": 4,
 "nbformat_minor": 2
}
