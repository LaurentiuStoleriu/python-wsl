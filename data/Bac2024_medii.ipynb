{
 "cells": [
  {
   "cell_type": "code",
   "execution_count": 107,
   "metadata": {},
   "outputs": [],
   "source": [
    "import pandas as pd\n",
    "pd.options.display.max_rows = 25"
   ]
  },
  {
   "cell_type": "code",
   "execution_count": 108,
   "metadata": {},
   "outputs": [],
   "source": [
    "df = pd.read_csv('/mnt/e/Stoleriu/OneDrive-UAIC/SciComp/Bac2024/tot-analiza-itemi.csv', sep = \",\")\n",
    "#print(df)"
   ]
  },
  {
   "cell_type": "code",
   "execution_count": 109,
   "metadata": {},
   "outputs": [
    {
     "name": "stdout",
     "output_type": "stream",
     "text": [
      "['AB1001057' 'AB1012166' 'AB1018515' ... 'VS977814' 'VS982312' 'VS998284'] \n",
      " 81591\n"
     ]
    }
   ],
   "source": [
    "unici = df.SIIIR.unique()\n",
    "print(unici, '\\n',unici.size)"
   ]
  },
  {
   "cell_type": "code",
   "execution_count": 110,
   "metadata": {},
   "outputs": [
    {
     "name": "stdout",
     "output_type": "stream",
     "text": [
      "1000\n",
      "2000\n",
      "3000\n",
      "4000\n",
      "5000\n",
      "6000\n",
      "7000\n",
      "8000\n",
      "9000\n",
      "10000\n",
      "11000\n",
      "12000\n",
      "13000\n",
      "14000\n",
      "15000\n",
      "16000\n",
      "17000\n",
      "18000\n",
      "19000\n",
      "20000\n",
      "21000\n",
      "22000\n",
      "23000\n",
      "24000\n",
      "25000\n",
      "26000\n",
      "27000\n",
      "28000\n",
      "29000\n",
      "30000\n",
      "31000\n",
      "32000\n",
      "33000\n",
      "34000\n",
      "35000\n",
      "36000\n",
      "37000\n",
      "38000\n",
      "39000\n",
      "40000\n",
      "41000\n",
      "42000\n",
      "43000\n",
      "44000\n",
      "45000\n",
      "46000\n",
      "47000\n",
      "48000\n",
      "49000\n",
      "50000\n",
      "51000\n",
      "52000\n",
      "53000\n",
      "54000\n",
      "55000\n",
      "56000\n",
      "57000\n",
      "58000\n",
      "59000\n",
      "60000\n",
      "61000\n",
      "62000\n",
      "63000\n",
      "64000\n",
      "65000\n",
      "66000\n",
      "67000\n",
      "68000\n",
      "69000\n",
      "70000\n",
      "71000\n",
      "72000\n",
      "73000\n",
      "74000\n",
      "75000\n",
      "76000\n",
      "77000\n",
      "78000\n",
      "79000\n",
      "80000\n",
      "81000\n",
      "81591\n"
     ]
    }
   ],
   "source": [
    "THE_DATA = []\n",
    "count = 0\n",
    "for SIIIRval in unici:\n",
    "    count += 1\n",
    "    #if (count > 2000):\n",
    "    #    break\n",
    "    if (count % 1000 == 0):\n",
    "        print(count)\n",
    "    un_elev = df[df['SIIIR'] == SIIIRval]\n",
    "    #print(len(un_elev.index))\n",
    "    if (len(un_elev.index) == 2):                                   # DOUA CORECTURI\n",
    "        THE_DATA.append([un_elev.iloc[0,0], un_elev.iloc[0,1], len(un_elev.index),(un_elev.iloc[0,60] + un_elev.iloc[1,60])/20.0])\n",
    "    elif (len(un_elev.index) == 4):\n",
    "        if ( abs(un_elev.iloc[0,60] - un_elev.iloc[1,60]) <= 10 ):  # PATRU CORECTURI - CONTESTATIE\n",
    "            THE_DATA.append([un_elev.iloc[0,0], un_elev.iloc[0,1], len(un_elev.index),(un_elev.iloc[2,60] + un_elev.iloc[3,60])/20.0])\n",
    "        else:                                                       # PATRU CORECTURI DIFERENTA MARE\n",
    "            THE_DATA.append([un_elev.iloc[0,0], un_elev.iloc[0,1], len(un_elev.index),(un_elev['Total'].sum()-un_elev['Total'].min()-un_elev['Total'].max())/20.0])\n",
    "            #print(SIIIRval, \" ... \", un_elev['Total'].min(), \" --- \", un_elev['Total'].max(), \" -> \", (un_elev['Total'].sum()-un_elev['Total'].min()-un_elev['Total'].max())/2.0)\n",
    "    elif (len(un_elev.index) == 8):                                 # OPT CORECTURI\n",
    "        un_elev = un_elev.iloc[4:]\n",
    "        THE_DATA.append([un_elev.iloc[0,0], un_elev.iloc[0,1], 8,(un_elev['Total'].sum()-un_elev['Total'].min()-un_elev['Total'].max())/20.0])\n",
    "    elif (len(un_elev.index) == 6):\n",
    "        if ( abs(un_elev.iloc[0,60] - un_elev.iloc[1,60]) <= 10 ):  # SASE CORECTURI DIFERENTA MARE INITIAL\n",
    "            THE_DATA.append([un_elev.iloc[0,0], un_elev.iloc[0,1], len(un_elev.index),(un_elev.iloc[4,60] + un_elev.iloc[5,60])/20.0])\n",
    "        else:                                                       # SASE CORECTURI DIFERENTA MARE CONTESTATIE \n",
    "            un_elev = un_elev.iloc[2:]\n",
    "            THE_DATA.append([un_elev.iloc[0,0], un_elev.iloc[0,1], 6,(un_elev['Total'].sum()-un_elev['Total'].min()-un_elev['Total'].max())/20.0])\n",
    "    else:\n",
    "        print(\"ERROR -> \", len(un_elev.index), \" @ \", SIIIRval)\n",
    "#print(THE_DATA)\n",
    "print(len(THE_DATA))"
   ]
  },
  {
   "cell_type": "code",
   "execution_count": 111,
   "metadata": {},
   "outputs": [],
   "source": [
    "THE_RESULT = pd.DataFrame(THE_DATA, columns=['SIIIR', 'Judet', 'NrCorecturi', 'Nota'])\n",
    "THE_RESULT.to_csv('/mnt/e/Stoleriu/OneDrive-UAIC/SciComp/Bac2024/tot-rezultate.csv', sep = \",\", encoding='utf-8', index=False, header=True)"
   ]
  },
  {
   "cell_type": "code",
   "execution_count": null,
   "metadata": {},
   "outputs": [],
   "source": []
  }
 ],
 "metadata": {
  "kernelspec": {
   "display_name": "base",
   "language": "python",
   "name": "python3"
  },
  "language_info": {
   "codemirror_mode": {
    "name": "ipython",
    "version": 3
   },
   "file_extension": ".py",
   "mimetype": "text/x-python",
   "name": "python",
   "nbconvert_exporter": "python",
   "pygments_lexer": "ipython3",
   "version": "3.11.9"
  }
 },
 "nbformat": 4,
 "nbformat_minor": 2
}
