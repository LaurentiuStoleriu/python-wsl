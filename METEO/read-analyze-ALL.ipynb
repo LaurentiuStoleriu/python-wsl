{
 "cells": [
  {
   "cell_type": "code",
   "execution_count": null,
   "metadata": {},
   "outputs": [],
   "source": [
    "import json\n",
    "import datetime\n",
    "import numpy as np\n",
    "import pandas as pd\n",
    "import seaborn as sns\n",
    "import matplotlib.pyplot as plt\n",
    "plt.close(\"all\")"
   ]
  },
  {
   "cell_type": "code",
   "execution_count": null,
   "metadata": {},
   "outputs": [],
   "source": [
    "Models = ['ECMWF-EU', 'GEM-CA', 'GFS-US', 'ICON-DE', 'JMA-JP', 'MET-NO', 'OPEN-METEO']"
   ]
  },
  {
   "cell_type": "code",
   "execution_count": null,
   "metadata": {},
   "outputs": [],
   "source": [
    "ECMWFData = pd.read_pickle('/home/lali/TITAN-ROG-sync/python/METEO/Rez_ECMWFEU.pkl')\n",
    "ECMWFDataDiff = pd.read_pickle('/home/lali/TITAN-ROG-sync/python/METEO/Rez_diff_ECMWFEU.pkl')\n",
    "ECMWFData['Model'] = 'ECMWF-EU'\n",
    "ECMWFDataDiff['Model'] = 'ECMWF-EU'"
   ]
  },
  {
   "cell_type": "code",
   "execution_count": null,
   "metadata": {},
   "outputs": [],
   "source": [
    "GEMCAData = pd.read_pickle('/home/lali/TITAN-ROG-sync/python/METEO/Rez_GEMCanada.pkl')\n",
    "GEMCADataDiff = pd.read_pickle('/home/lali/TITAN-ROG-sync/python/METEO/Rez_diff_GEMCanada.pkl')\n",
    "GEMCAData['Model'] = 'GEM-CA'\n",
    "GEMCADataDiff['Model'] = 'GEM-CA'"
   ]
  },
  {
   "cell_type": "code",
   "execution_count": null,
   "metadata": {},
   "outputs": [],
   "source": [
    "GFSUSData = pd.read_pickle('/home/lali/TITAN-ROG-sync/python/METEO/Rez_GFSUSA.pkl')\n",
    "GFSUSDataDiff = pd.read_pickle('/home/lali/TITAN-ROG-sync/python/METEO/Rez_diff_GFSUSA.pkl')\n",
    "GFSUSData['Model'] = 'GFS-US'\n",
    "GFSUSDataDiff['Model'] = 'GFS-US'"
   ]
  },
  {
   "cell_type": "code",
   "execution_count": null,
   "metadata": {},
   "outputs": [],
   "source": [
    "ICONDEData = pd.read_pickle('/home/lali/TITAN-ROG-sync/python/METEO/Rez_ICONGermany.pkl')\n",
    "ICONDEDataDiff = pd.read_pickle('/home/lali/TITAN-ROG-sync/python/METEO/Rez_diff_ICONGermany.pkl')\n",
    "ICONDEData['Model'] = 'ICON-DE'\n",
    "ICONDEDataDiff['Model'] = 'ICON-DE'"
   ]
  },
  {
   "cell_type": "code",
   "execution_count": null,
   "metadata": {},
   "outputs": [],
   "source": [
    "JMAJPData = pd.read_pickle('/home/lali/TITAN-ROG-sync/python/METEO/Rez_JMA-JP.pkl')\n",
    "JMAJPDataDiff = pd.read_pickle('/home/lali/TITAN-ROG-sync/python/METEO/Rez_diff_JMA-JP.pkl')\n",
    "JMAJPData['Model'] = 'JMA-JP'\n",
    "JMAJPDataDiff['Model'] = 'JMA-JP'"
   ]
  },
  {
   "cell_type": "code",
   "execution_count": null,
   "metadata": {},
   "outputs": [],
   "source": [
    "METNOData = pd.read_pickle('/home/lali/TITAN-ROG-sync/python/METEO/Rez_METNO.pkl')\n",
    "METNODataDiff = pd.read_pickle('/home/lali/TITAN-ROG-sync/python/METEO/Rez_diff_METNO.pkl')\n",
    "METNOData['Model'] = 'MET-NO'\n",
    "METNODataDiff['Model'] = 'MET-NO'"
   ]
  },
  {
   "cell_type": "code",
   "execution_count": null,
   "metadata": {},
   "outputs": [],
   "source": [
    "OPENData = pd.read_pickle('/home/lali/TITAN-ROG-sync/python/METEO/Rez_OPEN-METEO.pkl')\n",
    "OPENDataDiff = pd.read_pickle('/home/lali/TITAN-ROG-sync/python/METEO/Rez_diff_OPEN-METEO.pkl')\n",
    "OPENData['Model'] = 'OPEN-METEO'\n",
    "OPENDataDiff['Model'] = 'OPEN-METEO'"
   ]
  },
  {
   "cell_type": "code",
   "execution_count": null,
   "metadata": {},
   "outputs": [],
   "source": [
    "frames = [ECMWFData, GEMCAData, GFSUSData, ICONDEData, JMAJPData, METNOData, OPENData]\n",
    "allData = pd.concat(frames)\n",
    "framesDiff = [ECMWFDataDiff, GEMCADataDiff, GFSUSDataDiff, ICONDEDataDiff, JMAJPDataDiff, METNODataDiff, OPENDataDiff]\n",
    "allDataDiff = pd.concat(framesDiff)"
   ]
  },
  {
   "cell_type": "code",
   "execution_count": null,
   "metadata": {},
   "outputs": [],
   "source": [
    "allData = allData.iloc[:, :-1]\n",
    "#list(allData.columns.values)\n",
    "allData.columns = ['Real', '0h', '6h', '12h', '18h', '24h', '30h', '36h', '42h', '48h', '54h', '60h', '66h', '72h', '78h', '84h', '90h', '96h', '102h', '108h', '114h', '120h', '126h', '132h', '138h', '144h', '150h', '156h', '162h', '168h', '174h', '180h', '186h', '192h', '198h', '204h', '210h', '216h', '222h', '228h', '234h', '240h', 'Model']\n",
    "#list(allData.columns.values)\n",
    "del allData['234h']\n",
    "del allData['240h']\n",
    "allData = allData.reset_index()"
   ]
  },
  {
   "cell_type": "code",
   "execution_count": null,
   "metadata": {},
   "outputs": [],
   "source": [
    "allDataDiff = allDataDiff.iloc[:, :-1]\n",
    "#list(allDataDiff.columns.values)\n",
    "allDataDiff.columns = ['Real', '0h', '6h', '12h', '18h', '24h', '30h', '36h', '42h', '48h', '54h', '60h', '66h', '72h', '78h', '84h', '90h', '96h', '102h', '108h', '114h', '120h', '126h', '132h', '138h', '144h', '150h', '156h', '162h', '168h', '174h', '180h', '186h', '192h', '198h', '204h', '210h', '216h', '222h', '228h', '234h', '240h', 'Model']\n",
    "#list(allDataDiff.columns.values)\n",
    "del allDataDiff['234h']\n",
    "del allDataDiff['240h']\n",
    "allDataDiff = allDataDiff.reset_index()"
   ]
  },
  {
   "cell_type": "code",
   "execution_count": null,
   "metadata": {},
   "outputs": [],
   "source": [
    "\n",
    "#sns.displot(allDataDiff, x=\"0h\", hue=\"Model\", stat=\"density\")\n",
    "#sns.displot(allDataDiff, x=\"0h\", hue=\"Model\", kind=\"kde\", fill=True)"
   ]
  },
  {
   "cell_type": "code",
   "execution_count": null,
   "metadata": {},
   "outputs": [],
   "source": [
    "plotAllDataDiff = allDataDiff[['Real', '0h', '24h', '48h', 'Model']]\n",
    "#sns.displot(plotAllDataDiff, x=\"0h\", hue=\"Model\", stat=\"density\")\n",
    "#plotAllDataDiff.hist(by='Model')\n",
    "plotAllDataDiff.plot.box(by='Model', showfliers=False, figsize=(20, 5), grid=True, rot=45)\n",
    "allDataDiff.plot.box(column=['72h', '96h', '120h'], by='Model', showfliers=False, figsize=(20, 5), grid=True, rot=45)"
   ]
  },
  {
   "cell_type": "code",
   "execution_count": null,
   "metadata": {},
   "outputs": [],
   "source": [
    "begin = '1900-01-01T00:00:00' #'2023-07-19T21:00:00'\n",
    "end   = '2024-03-28T00:00:00' #'2024-09-01T03:00:00'\n",
    "\n",
    "beginDate = datetime.datetime.strptime(begin, '%Y-%m-%dT%H:%M:%S')\n",
    "endDate = datetime.datetime.strptime(end, '%Y-%m-%dT%H:%M:%S')\n",
    "\n",
    "allDataDiff['Date'] = pd.to_datetime(allDataDiff['Date'])  \n",
    "\n",
    "plotSomeDataDiff = allDataDiff[  (  allDataDiff['Date'] > beginDate  ) &  (  allDataDiff['Date'] < endDate  )  ]"
   ]
  },
  {
   "cell_type": "code",
   "execution_count": null,
   "metadata": {},
   "outputs": [],
   "source": [
    "plotSomeDataDiff.plot.box(column=['0h', '24h', '48h'], by='Model', showfliers=False, figsize=(20, 5), grid=True, rot=45)\n",
    "plotSomeDataDiff.plot.box(column=['72h', '96h', '120h'], by='Model', showfliers=False, figsize=(20, 5), grid=True, rot=45)"
   ]
  },
  {
   "cell_type": "code",
   "execution_count": null,
   "metadata": {},
   "outputs": [],
   "source": [
    "sns.kdeplot(data=plotAllDataDiff, x=\"24h\", hue=\"Model\")"
   ]
  },
  {
   "cell_type": "code",
   "execution_count": null,
   "metadata": {},
   "outputs": [],
   "source": [
    "f, axs = plt.subplots(1, 2, figsize=(8, 4), gridspec_kw=dict(width_ratios=[4, 3]))\n",
    "sns.scatterplot(data=allDataDiff, x=\"24h\", y=\"Model\", hue=\"Model\", ax=axs[0])\n",
    "sns.histplot(data=allDataDiff, x=\"Model\", hue=\"24h\", shrink=.8, alpha=.8, legend=False, ax=axs[1])\n",
    "f.tight_layout()"
   ]
  },
  {
   "cell_type": "code",
   "execution_count": null,
   "metadata": {},
   "outputs": [],
   "source": [
    "sns.jointplot(data=allDataDiff, x=\"24h\", y=\"Date\", hue=\"Model\")"
   ]
  }
 ],
 "metadata": {
  "kernelspec": {
   "display_name": "base",
   "language": "python",
   "name": "python3"
  },
  "language_info": {
   "codemirror_mode": {
    "name": "ipython",
    "version": 3
   },
   "file_extension": ".py",
   "mimetype": "text/x-python",
   "name": "python",
   "nbconvert_exporter": "python",
   "pygments_lexer": "ipython3",
   "version": "3.11.3"
  }
 },
 "nbformat": 4,
 "nbformat_minor": 2
}
